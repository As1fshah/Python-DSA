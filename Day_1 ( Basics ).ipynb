{
 "cells": [
  {
   "cell_type": "code",
   "execution_count": null,
   "metadata": {},
   "outputs": [
    {
     "name": "stdout",
     "output_type": "stream",
     "text": [
      "Total numbers of even numbers in the sequence of 1-100:  50\n",
      "Numbers in the sequence is :  [1, 3, 5, 7, 9, 11, 13, 15, 17, 19, 21, 23, 25, 27, 29, 31, 33, 35, 37, 39, 41, 43, 45, 47, 49, 51, 53, 55, 57, 59, 61, 63, 65, 67, 69, 71, 73, 75, 77, 79, 81, 83, 85, 87, 89, 91, 93, 95, 97, 99]\n"
     ]
    }
   ],
   "source": [
    "## Printing the series of odd numbers\n",
    "x = int(input('Enter your number here: '))\n",
    "odd_numbers = []\n",
    "for i in range(1, x+1):\n",
    "    if i%2!=0:   # Code Logic\n",
    "        odd_numbers.append(i)\n",
    "print(f'Total numbers of even numbers in the sequence of 1-{x}: ',len(odd_numbers))\n",
    "print(\"Numbers in the sequence is : \", odd_numbers)\n"
   ]
  },
  {
   "cell_type": "code",
   "execution_count": 24,
   "metadata": {},
   "outputs": [
    {
     "name": "stdout",
     "output_type": "stream",
     "text": [
      "Total numbers of even numbers in the sequence of 1-100:  50\n",
      "Numbers in the sequence is :  [2, 4, 6, 8, 10, 12, 14, 16, 18, 20, 22, 24, 26, 28, 30, 32, 34, 36, 38, 40, 42, 44, 46, 48, 50, 52, 54, 56, 58, 60, 62, 64, 66, 68, 70, 72, 74, 76, 78, 80, 82, 84, 86, 88, 90, 92, 94, 96, 98, 100]\n"
     ]
    }
   ],
   "source": [
    "# Printing the series of even numbers\n",
    "x = int(input('Enter your number here: '))\n",
    "even_numbers = []\n",
    "for i in range(1, x+1):\n",
    "    if i % 2 == 0: # Code Logic\n",
    "        even_numbers.append(i)\n",
    "print(f'Total numbers of even numbers in the sequence of 1-{x}: ',len(even_numbers))\n",
    "print(\"Numbers in the sequence is : \", even_numbers)"
   ]
  },
  {
   "cell_type": "code",
   "execution_count": 37,
   "metadata": {},
   "outputs": [
    {
     "name": "stdout",
     "output_type": "stream",
     "text": [
      "Sum of all natural numbers from 1 - 10 is:  55\n"
     ]
    }
   ],
   "source": [
    "# Printing the sum of n natural number - for loop\n",
    "x = int(input('Enter your number here: '))\n",
    "sum = 0\n",
    "count = 1\n",
    "for i in range(1, x+1):\n",
    "    sum = sum + count\n",
    "    count += 1\n",
    "print(f'Sum of all natural numbers from 1 - {x} is: ',sum)"
   ]
  },
  {
   "cell_type": "code",
   "execution_count": null,
   "metadata": {},
   "outputs": [
    {
     "name": "stdout",
     "output_type": "stream",
     "text": [
      "Prime numbers in range 100 is:  [2, 3, 5, 7, 11, 13, 17, 19, 23, 29, 31, 37, 41, 43, 47, 53, 59, 61, 67, 71, 73, 79, 83, 89, 97]\n"
     ]
    }
   ],
   "source": [
    "# Prime numbers between 1-100 using for loop\n",
    "x = int(input('Enter your number here: '))\n",
    "prime_numbers = []\n",
    "for i in range(1, x+1): \n",
    "    if i > 1:\n",
    "        for j in range(2, i):\n",
    "            if i % j == 0:\n",
    "                break\n",
    "        else:\n",
    "            prime_numbers.append(i)\n",
    "\n",
    "print(f'Prime numbers in range {x} is: ',prime_numbers)"
   ]
  }
 ],
 "metadata": {
  "kernelspec": {
   "display_name": "venv",
   "language": "python",
   "name": "python3"
  },
  "language_info": {
   "codemirror_mode": {
    "name": "ipython",
    "version": 3
   },
   "file_extension": ".py",
   "mimetype": "text/x-python",
   "name": "python",
   "nbconvert_exporter": "python",
   "pygments_lexer": "ipython3",
   "version": "3.12.6"
  }
 },
 "nbformat": 4,
 "nbformat_minor": 2
}
